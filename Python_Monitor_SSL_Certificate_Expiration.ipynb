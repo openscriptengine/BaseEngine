{
  "nbformat": 4,
  "nbformat_minor": 0,
  "metadata": {
    "colab": {
      "name": "Python : Monitor SSL Certificate Expiration.ipynb",
      "provenance": [],
      "authorship_tag": "ABX9TyOnzqOLDNsVHwSioGcUJaX0",
      "include_colab_link": true
    },
    "kernelspec": {
      "name": "python3",
      "display_name": "Python 3"
    }
  },
  "cells": [
    {
      "cell_type": "markdown",
      "metadata": {
        "id": "view-in-github",
        "colab_type": "text"
      },
      "source": [
        "<a href=\"https://colab.research.google.com/github/openscriptengine/BaseEngine/blob/master/Python_Monitor_SSL_Certificate_Expiration.ipynb\" target=\"_parent\"><img src=\"https://colab.research.google.com/assets/colab-badge.svg\" alt=\"Open In Colab\"/></a>"
      ]
    },
    {
      "cell_type": "markdown",
      "metadata": {
        "id": "griW-AJCJdb2",
        "colab_type": "text"
      },
      "source": [
        "Python : Monitor SSL Certificate Expiration\n"
      ]
    },
    {
      "cell_type": "code",
      "metadata": {
        "id": "TDLS-DF4HPKn",
        "colab_type": "code",
        "colab": {
          "base_uri": "https://localhost:8080/",
          "height": 102
        },
        "outputId": "b51c4833-8fc2-4c35-8995-5cd2f486f74d"
      },
      "source": [
        "pip install pyOpenSSL"
      ],
      "execution_count": null,
      "outputs": [
        {
          "output_type": "stream",
          "text": [
            "Requirement already satisfied: pyOpenSSL in /usr/local/lib/python3.6/dist-packages (19.1.0)\n",
            "Requirement already satisfied: six>=1.5.2 in /usr/local/lib/python3.6/dist-packages (from pyOpenSSL) (1.12.0)\n",
            "Requirement already satisfied: cryptography>=2.8 in /usr/local/lib/python3.6/dist-packages (from pyOpenSSL) (2.9.2)\n",
            "Requirement already satisfied: cffi!=1.11.3,>=1.8 in /usr/local/lib/python3.6/dist-packages (from cryptography>=2.8->pyOpenSSL) (1.14.0)\n",
            "Requirement already satisfied: pycparser in /usr/local/lib/python3.6/dist-packages (from cffi!=1.11.3,>=1.8->cryptography>=2.8->pyOpenSSL) (2.20)\n"
          ],
          "name": "stdout"
        }
      ]
    },
    {
      "cell_type": "code",
      "metadata": {
        "id": "YzeJtEjFIcp8",
        "colab_type": "code",
        "colab": {
          "base_uri": "https://localhost:8080/",
          "height": 34
        },
        "outputId": "68881c17-c4a1-4de9-84e5-78fe0390cf40"
      },
      "source": [
        "pip install futures"
      ],
      "execution_count": null,
      "outputs": [
        {
          "output_type": "stream",
          "text": [
            "Requirement already satisfied: futures in /usr/local/lib/python3.6/dist-packages (3.1.1)\n"
          ],
          "name": "stdout"
        }
      ]
    },
    {
      "cell_type": "code",
      "metadata": {
        "id": "Nivfg43pHR6b",
        "colab_type": "code",
        "colab": {}
      },
      "source": [
        "from OpenSSL import SSL\n",
        "from cryptography import x509\n",
        "from cryptography.x509.oid import NameOID\n",
        "import idna"
      ],
      "execution_count": null,
      "outputs": []
    },
    {
      "cell_type": "code",
      "metadata": {
        "id": "gdEN9OLyHh0Y",
        "colab_type": "code",
        "colab": {}
      },
      "source": [
        "from socket import socket\n",
        "from collections import namedtuple"
      ],
      "execution_count": null,
      "outputs": []
    },
    {
      "cell_type": "code",
      "metadata": {
        "id": "B9ijy1BqHqzk",
        "colab_type": "code",
        "colab": {
          "base_uri": "https://localhost:8080/",
          "height": 394
        },
        "outputId": "c0661968-623e-4e85-d104-a7f20ceebce8"
      },
      "source": [
        "HostInfo = namedtuple(field_names='cert hostname peername', typename='HostInfo')\n",
        "\n",
        "HOSTS = [\n",
        "    ('google.com',443),\n",
        "    ('accenture.com', 443),\n",
        "    ('reuters.com', 443)\n",
        "]\n",
        "\n",
        "def verify_cert(cert, hostname):\n",
        "    cert.has_expired()\n",
        "    # service_identity.pyopenssl.verify_hostname(client_ssl, hostname)\n",
        "    # issuer\n",
        "\n",
        "def get_certificate(hostname, port):\n",
        "    hostname_idna = idna.encode(hostname)\n",
        "    sock = socket()\n",
        "\n",
        "    sock.connect((hostname, port))\n",
        "    peername = sock.getpeername()\n",
        "    ctx = SSL.Context(SSL.SSLv23_METHOD) # most compatible\n",
        "    ctx.check_hostname = False\n",
        "    ctx.verify_mode = SSL.VERIFY_NONE\n",
        "\n",
        "    sock_ssl = SSL.Connection(ctx, sock)\n",
        "    sock_ssl.set_connect_state()\n",
        "    sock_ssl.set_tlsext_host_name(hostname_idna)\n",
        "    sock_ssl.do_handshake()\n",
        "    cert = sock_ssl.get_peer_certificate()\n",
        "    crypto_cert = cert.to_cryptography()\n",
        "    sock_ssl.close()\n",
        "    sock.close()\n",
        "\n",
        "    return HostInfo(cert=crypto_cert, peername=peername, hostname=hostname)\n",
        "\n",
        "def get_alt_names(cert):\n",
        "    try:\n",
        "        ext = cert.extensions.get_extension_for_class(x509.SubjectAlternativeName)\n",
        "        return ext.value.get_values_for_type(x509.DNSName)\n",
        "    except x509.ExtensionNotFound:\n",
        "        return None\n",
        "\n",
        "def get_common_name(cert):\n",
        "    try:\n",
        "        names = cert.subject.get_attributes_for_oid(NameOID.COMMON_NAME)\n",
        "        return names[0].value\n",
        "    except x509.ExtensionNotFound:\n",
        "        return None\n",
        "\n",
        "def get_issuer(cert):\n",
        "    try:\n",
        "        names = cert.issuer.get_attributes_for_oid(NameOID.COMMON_NAME)\n",
        "        return names[0].value\n",
        "    except x509.ExtensionNotFound:\n",
        "        return None\n",
        "\n",
        "\n",
        "def print_basic_info(hostinfo):\n",
        "    s = '''» {hostname} « … {peername}\n",
        "    \\tcommonName: {commonname}\n",
        "    \\tSAN: {SAN}\n",
        "    \\tissuer: {issuer}\n",
        "    \\tnotBefore: {notbefore}\n",
        "    \\tnotAfter:  {notafter}\n",
        "    '''.format(\n",
        "            hostname=hostinfo.hostname,\n",
        "            peername=hostinfo.peername,\n",
        "            commonname=get_common_name(hostinfo.cert),\n",
        "            SAN=get_alt_names(hostinfo.cert),\n",
        "            issuer=get_issuer(hostinfo.cert),\n",
        "            notbefore=hostinfo.cert.not_valid_before,\n",
        "            notafter=hostinfo.cert.not_valid_after\n",
        "    )\n",
        "    print(s)\n",
        "\n",
        "def check_it_out(hostname, port):\n",
        "    hostinfo = get_certificate(hostname, port)\n",
        "    print_basic_info(hostinfo)\n",
        "\n",
        "\n",
        "import concurrent.futures\n",
        "if __name__ == '__main__':\n",
        "    with concurrent.futures.ThreadPoolExecutor(max_workers=4) as e:\n",
        "        for hostinfo in e.map(lambda x: get_certificate(x[0], x[1]), HOSTS):\n",
        "            print_basic_info(hostinfo)"
      ],
      "execution_count": null,
      "outputs": [
        {
          "output_type": "stream",
          "text": [
            "» google.com « … ('172.217.193.100', 443)\n",
            "    \tcommonName: *.google.com\n",
            "    \tSAN: ['*.google.com', '*.android.com', '*.appengine.google.com', '*.bdn.dev', '*.cloud.google.com', '*.crowdsource.google.com', '*.g.co', '*.gcp.gvt2.com', '*.gcpcdn.gvt1.com', '*.ggpht.cn', '*.gkecnapps.cn', '*.google-analytics.com', '*.google.ca', '*.google.cl', '*.google.co.in', '*.google.co.jp', '*.google.co.uk', '*.google.com.ar', '*.google.com.au', '*.google.com.br', '*.google.com.co', '*.google.com.mx', '*.google.com.tr', '*.google.com.vn', '*.google.de', '*.google.es', '*.google.fr', '*.google.hu', '*.google.it', '*.google.nl', '*.google.pl', '*.google.pt', '*.googleadapis.com', '*.googleapis.cn', '*.googlecnapps.cn', '*.googlecommerce.com', '*.googlevideo.com', '*.gstatic.cn', '*.gstatic.com', '*.gstaticcnapps.cn', '*.gvt1.com', '*.gvt2.com', '*.metric.gstatic.com', '*.urchin.com', '*.url.google.com', '*.wear.gkecnapps.cn', '*.youtube-nocookie.com', '*.youtube.com', '*.youtubeeducation.com', '*.youtubekids.com', '*.yt.be', '*.ytimg.com', 'android.clients.google.com', 'android.com', 'developer.android.google.cn', 'developers.android.google.cn', 'g.co', 'ggpht.cn', 'gkecnapps.cn', 'goo.gl', 'google-analytics.com', 'google.com', 'googlecnapps.cn', 'googlecommerce.com', 'source.android.google.cn', 'urchin.com', 'www.goo.gl', 'youtu.be', 'youtube.com', 'youtubeeducation.com', 'youtubekids.com', 'yt.be']\n",
            "    \tissuer: GTS CA 1O1\n",
            "    \tnotBefore: 2020-05-26 15:35:06\n",
            "    \tnotAfter:  2020-08-18 15:35:06\n",
            "    \n",
            "» accenture.com « … ('170.248.56.19', 443)\n",
            "    \tcommonName: acnpic.accenture.com\n",
            "    \tSAN: ['acnpic.accenture.com', 'acnpic-careers.accenture.com', 'careers.accenture.com', 'accenture.com']\n",
            "    \tissuer: DigiCert SHA2 Extended Validation Server CA\n",
            "    \tnotBefore: 2019-02-04 00:00:00\n",
            "    \tnotAfter:  2021-02-08 12:00:00\n",
            "    \n",
            "» reuters.com « … ('52.2.61.110', 443)\n",
            "    \tcommonName: reuters.com\n",
            "    \tSAN: ['reuters.com']\n",
            "    \tissuer: Let's Encrypt Authority X3\n",
            "    \tnotBefore: 2020-05-13 01:33:21\n",
            "    \tnotAfter:  2020-08-11 01:33:21\n",
            "    \n"
          ],
          "name": "stdout"
        }
      ]
    }
  ]
}